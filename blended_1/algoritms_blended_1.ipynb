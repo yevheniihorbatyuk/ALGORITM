{
 "cells": [
  {
   "cell_type": "markdown",
   "metadata": {},
   "source": [
    "## PART 1"
   ]
  },
  {
   "cell_type": "code",
   "execution_count": 3,
   "metadata": {},
   "outputs": [],
   "source": [
    "import numpy as np\n",
    "import random"
   ]
  },
  {
   "cell_type": "markdown",
   "metadata": {},
   "source": [
    "### Пошук максимального підмасиву"
   ]
  },
  {
   "cell_type": "code",
   "execution_count": null,
   "metadata": {},
   "outputs": [],
   "source": [
    "data = np.random.randint(10, size=1000)"
   ]
  },
  {
   "cell_type": "code",
   "execution_count": 14,
   "metadata": {},
   "outputs": [],
   "source": [
    "# Пошук максимального підмасиву\n",
    "# 1\n",
    "def find_max_subarray_brute(arr):\n",
    "    n = len(arr)\n",
    "    max_sum = float('-inf')\n",
    "    for i in range(n):\n",
    "        current_sum = 0\n",
    "        for j in range(i, n):\n",
    "            current_sum += arr[j]\n",
    "            max_sum = max(max_sum, current_sum)\n",
    "    return max_sum"
   ]
  },
  {
   "cell_type": "code",
   "execution_count": 18,
   "metadata": {},
   "outputs": [
    {
     "name": "stdout",
     "output_type": "stream",
     "text": [
      "289 ms ± 45.8 ms per loop (mean ± std. dev. of 7 runs, 1 loop each)\n"
     ]
    }
   ],
   "source": [
    "%%timeit\n",
    "\n",
    "find_max_subarray_brute(data)"
   ]
  },
  {
   "cell_type": "code",
   "execution_count": 16,
   "metadata": {},
   "outputs": [],
   "source": [
    "# 2\n",
    "def find_max_subarray_divide(arr):\n",
    "    if len(arr) == 1:\n",
    "        return arr[0]\n",
    "    mid = len(arr) // 2\n",
    "    left_sum = find_max_subarray_divide(arr[:mid])\n",
    "    right_sum = find_max_subarray_divide(arr[mid:])\n",
    "    \n",
    "    # Знаходження максимальної суми, що перетинає середину\n",
    "    left_crossing = float('-inf')\n",
    "    current = 0\n",
    "    for i in range(mid-1, -1, -1):\n",
    "        current += arr[i]\n",
    "        left_crossing = max(left_crossing, current)\n",
    "    \n",
    "    right_crossing = float('-inf')\n",
    "    current = 0\n",
    "    for i in range(mid, len(arr)):\n",
    "        current += arr[i]\n",
    "        right_crossing = max(right_crossing, current)\n",
    "    \n",
    "    crossing_sum = left_crossing + right_crossing\n",
    "    return max(left_sum, right_sum, crossing_sum)"
   ]
  },
  {
   "cell_type": "code",
   "execution_count": 19,
   "metadata": {},
   "outputs": [
    {
     "name": "stdout",
     "output_type": "stream",
     "text": [
      "17.7 ms ± 3.35 ms per loop (mean ± std. dev. of 7 runs, 10 loops each)\n"
     ]
    }
   ],
   "source": [
    "%%timeit\n",
    "\n",
    "find_max_subarray_divide(data)"
   ]
  },
  {
   "cell_type": "code",
   "execution_count": null,
   "metadata": {},
   "outputs": [],
   "source": []
  },
  {
   "cell_type": "markdown",
   "metadata": {},
   "source": [
    "- Алгоритми що базуються на Divide & Conquer\n",
    "\n",
    "| Алгоритм                         | Опис                              | Складність                    |\n",
    "| -------------------------------- | --------------------------------- | ----------------------------- |\n",
    "| **MergeSort**                    | Сортування злиттям                | O(n log n)                    |\n",
    "| **QuickSort**                    | Швидке сортування                 | O(n log n) (середній випадок) |\n",
    "| **Strassen’s Algorithm**         | Швидке множення матриць           | O(n^2.81)                     |\n",
    "| **Karatsuba Algorithm**          | Множення великих чисел            | O(n^log₂3)                    |\n",
    "| **Closest Pair of Points**       | Знаходження двох найближчих точок | O(n log n)                    |\n",
    "| **Fast Fourier Transform (FFT)** | Аналіз сигналів                   | O(n log n)                    |"
   ]
  },
  {
   "cell_type": "code",
   "execution_count": null,
   "metadata": {},
   "outputs": [
    {
     "name": "stdout",
     "output_type": "stream",
     "text": [
      "CPU times: user 24.8 ms, sys: 12.6 ms, total: 37.4 ms\n",
      "Wall time: 39.8 ms\n"
     ]
    },
    {
     "data": {
      "text/plain": [
       "np.int64(4530)"
      ]
     },
     "execution_count": 11,
     "metadata": {},
     "output_type": "execute_result"
    }
   ],
   "source": [
    "### Каратсуба"
   ]
  },
  {
   "cell_type": "code",
   "execution_count": null,
   "metadata": {},
   "outputs": [],
   "source": [
    "# O(n^log2(3)\n",
    "def karatsuba(x, y):\n",
    "    if x < 10 or y < 10:  # Базовий випадок\n",
    "        return x * y\n",
    "\n",
    "    n = max(len(str(x)), len(str(y)))\n",
    "    m = n // 2\n",
    "\n",
    "    a, b = divmod(x, 10**m)\n",
    "    c, d = divmod(y, 10**m)\n",
    "\n",
    "    ac = karatsuba(a, c)\n",
    "    bd = karatsuba(b, d)\n",
    "    ad_plus_bc = karatsuba(a + b, c + d) - ac - bd\n",
    "\n",
    "    return ac * 10**(2*m) + ad_plus_bc * 10**m + bd\n",
    "\n",
    "\n"
   ]
  },
  {
   "cell_type": "code",
   "execution_count": 28,
   "metadata": {},
   "outputs": [],
   "source": [
    "x_float, y_float = 0.12345678, 0.87654321\n",
    "x, y = 12345678, 87654321"
   ]
  },
  {
   "cell_type": "code",
   "execution_count": 69,
   "metadata": {},
   "outputs": [
    {
     "name": "stdout",
     "output_type": "stream",
     "text": [
      "142 ns ± 21.7 ns per loop (mean ± std. dev. of 7 runs, 10,000,000 loops each)\n"
     ]
    }
   ],
   "source": [
    "%%timeit\n",
    "\n",
    "x * y"
   ]
  },
  {
   "cell_type": "code",
   "execution_count": 70,
   "metadata": {},
   "outputs": [
    {
     "name": "stdout",
     "output_type": "stream",
     "text": [
      "111 ns ± 8.03 ns per loop (mean ± std. dev. of 7 runs, 10,000,000 loops each)\n"
     ]
    }
   ],
   "source": [
    "%%timeit\n",
    "\n",
    "x_float * y_float"
   ]
  },
  {
   "cell_type": "code",
   "execution_count": 73,
   "metadata": {},
   "outputs": [
    {
     "name": "stdout",
     "output_type": "stream",
     "text": [
      "68.4 μs ± 11.2 μs per loop (mean ± std. dev. of 7 runs, 10,000 loops each)\n"
     ]
    }
   ],
   "source": [
    "%%timeit\n",
    "\n",
    "karatsuba(x, y)\n"
   ]
  },
  {
   "cell_type": "code",
   "execution_count": 72,
   "metadata": {},
   "outputs": [
    {
     "name": "stdout",
     "output_type": "stream",
     "text": [
      "343 ns ± 64.1 ns per loop (mean ± std. dev. of 7 runs, 1,000,000 loops each)\n"
     ]
    }
   ],
   "source": [
    "%%timeit\n",
    "\n",
    "karatsuba(x_float, y_float)"
   ]
  },
  {
   "cell_type": "markdown",
   "metadata": {},
   "source": [
    "Python під капотом для операції множення використовує різні алгоритми, оптимізовані для різних типів даних та ситуацій. Розглянемо детальніше:\n",
    "\n",
    "1. Цілі числа (int):\n",
    "\n",
    "- Для малих чисел: Python використовує вбудовані операції процесора для швидкого множення. Це дуже ефективно для чисел, що поміщаються в машинне слово.\n",
    "\n",
    "- Для великих чисел (bignums): Python підтримує цілі числа довільної довжини. Для множення великих чисел використовуються спеціалізовані алгоритми, такі як алгоритм Карацуби або алгоритм Шьонхагера-Штрассена. Вибір алгоритму залежить від розміру чисел.\n",
    "\n",
    "\n",
    "2. Числа з плаваючою крапкою (float):\n",
    "\n",
    "- Python використовує стандарт IEEE 754 для представлення чисел з плаваючою крапкою. Множення таких чисел виконується за допомогою вбудованих операцій процесора, які відповідають стандарту IEEE 754.\n",
    "\n",
    "\n",
    "3. Комплексні числа (complex):\n",
    "\n",
    "- Множення комплексних чисел виконується за правилами комплексної арифметики. Python реалізує ці правила за допомогою відповідних алгоритмів.\n",
    "\n",
    "\n",
    "4. Інші типи даних:\n",
    "\n",
    "Д- ля інших типів даних, таких як списки, кортежі або матриці, операція множення може бути перевизначена. Наприклад, множення списку на число може призвести до повторення елементів списку."
   ]
  },
  {
   "cell_type": "markdown",
   "metadata": {},
   "source": [
    "### FFT"
   ]
  },
  {
   "cell_type": "markdown",
   "metadata": {},
   "source": []
  },
  {
   "cell_type": "code",
   "execution_count": 82,
   "metadata": {},
   "outputs": [
    {
     "name": "stdout",
     "output_type": "stream",
     "text": [
      "[10.+0.00000000e+00j -2.+2.00000000e+00j -2.-9.79717439e-16j\n",
      " -2.-2.00000000e+00j]\n",
      "[10.+0.j -2.+2.j -2.+0.j -2.-2.j]\n"
     ]
    },
    {
     "data": {
      "image/png": "[encoded data removed]",
      "text/plain": [
       "<Figure size 640x480 with 1 Axes>"
      ]
     },
     "metadata": {},
     "output_type": "display_data"
    }
   ],
   "source": [
    "import numpy as np\n",
    "import matplotlib.pyplot as plt\n",
    "\n",
    "def dft(x):\n",
    "    \"\"\"\n",
    "    Discrete Fourier Transform (DFT) of a 1D signal.\n",
    "\n",
    "    Args:\n",
    "        x: A 1D numpy array representing the input signal.\n",
    "\n",
    "    Returns:\n",
    "        A 1D numpy array representing the DFT coefficients.\n",
    "    \"\"\"\n",
    "    N = len(x)  # Length of the input signal\n",
    "    X = np.zeros(N, dtype=complex)  # Initialize DFT output array with complex zeros\n",
    "\n",
    "    for k in range(N):  # Iterate over output frequencies (0 to N-1)\n",
    "        for n in range(N):  # Iterate over input time samples (0 to N-1)\n",
    "            X[k] += x[n] * np.exp(-1j * 2 * np.pi * k * n / N)\n",
    "\n",
    "    return X\n",
    "\n",
    "\n",
    "# Example usage:\n",
    "x = np.array([1, 2, 3, 4])  # Example input signal\n",
    "X = dft(x)\n",
    "print(X)\n",
    "\n",
    "# Verification (compare with numpy's fft):\n",
    "X_np = np.fft.fft(x)\n",
    "print(X_np)  # Should be very close to the custom DFT result\n",
    "\n",
    "# Another Example (a sine wave)\n",
    "import matplotlib.pyplot as plt\n",
    "N = 256\n",
    "t = np.linspace(0, 1, N, False)  # 1 second\n",
    "x = np.sin(2*np.pi*10*t) # 10 Hz sine wave\n",
    "\n",
    "X = dft(x)\n",
    "freq = np.fft.fftfreq(N, 1/N) # Get the frequencies corresponding to the DFT output\n",
    "plt.plot(freq, np.abs(X))\n",
    "plt.xlabel(\"Frequency (Hz)\")\n",
    "plt.ylabel(\"Magnitude\")\n",
    "plt.title(\"DFT of a Sine Wave\")\n",
    "plt.grid()\n",
    "plt.show()"
   ]
  },
  {
   "cell_type": "code",
   "execution_count": 74,
   "metadata": {},
   "outputs": [],
   "source": [
    "def fft(x):\n",
    "    n = len(x)\n",
    "    if n == 1:\n",
    "        return x\n",
    "\n",
    "    w = np.exp(-2j * np.pi / n)  # Комплексний множник\n",
    "    even = fft(x[::2])\n",
    "    odd = fft(x[1::2])\n",
    "\n",
    "    return [even[k] + w**k * odd[k] for k in range(n//2)] + \\\n",
    "           [even[k] - w**k * odd[k] for k in range(n//2)]\n",
    "\n"
   ]
  },
  {
   "cell_type": "code",
   "execution_count": 85,
   "metadata": {},
   "outputs": [],
   "source": [
    "N = 256\n",
    "t = np.linspace(0, 1, N, False)  # 1 second\n",
    "x = np.sin(2*np.pi*10*t) # 10 Hz sine wave"
   ]
  },
  {
   "cell_type": "code",
   "execution_count": 86,
   "metadata": {},
   "outputs": [
    {
     "name": "stdout",
     "output_type": "stream",
     "text": [
      "CPU times: user 1.5 s, sys: 98.8 ms, total: 1.6 s\n",
      "Wall time: 1.67 s\n"
     ]
    },
    {
     "data": {
      "text/plain": [
       "array([-6.93889390e-16+0.00000000e+00j,  5.19029264e-15+2.90913127e-15j,\n",
       "        4.16333634e-16+3.85108612e-16j,  8.65973959e-15-1.05818132e-15j,\n",
       "        3.10862447e-15+2.24126273e-15j,  8.43769499e-15-4.27088920e-15j,\n",
       "       -4.08006962e-15+1.79647963e-14j,  7.18869408e-15-3.82333054e-15j,\n",
       "        3.69149156e-15+7.19563298e-15j,  6.38378239e-16+6.93889390e-17j,\n",
       "       -3.60822483e-15-1.28000000e+02j,  1.55431223e-14+1.22374333e-13j,\n",
       "        4.80171458e-15-4.16333634e-16j,  2.20101715e-14-3.84414722e-14j,\n",
       "       -2.53685961e-14-1.94289029e-14j,  5.77038417e-14+4.19941859e-14j,\n",
       "       -2.60069744e-14+2.42861287e-15j, -1.83186799e-14-1.33226763e-14j,\n",
       "       -1.80411242e-15+5.78703752e-15j,  1.78745907e-14-6.13398221e-15j,\n",
       "        1.11577414e-14-2.70616862e-15j, -2.78110868e-14-1.28785871e-14j,\n",
       "        0.00000000e+00+2.55073740e-14j,  4.82947016e-15-2.03725925e-14j,\n",
       "        1.69031455e-14+2.37865283e-14j, -1.15463195e-14-1.05748743e-14j,\n",
       "       -1.02140518e-14-8.35442826e-15j,  8.43769499e-15+1.59039448e-14j,\n",
       "        3.13915560e-14-3.86635168e-14j,  6.83342272e-14-1.04360964e-14j,\n",
       "        2.83106871e-14+2.66453526e-15j, -1.19348975e-15+9.99200722e-16j,\n",
       "       -5.20694599e-14-7.85482790e-15j,  2.60624855e-14+1.04916076e-14j,\n",
       "       -2.66175970e-14-2.58681965e-14j,  2.09832152e-14+2.05391260e-15j,\n",
       "        3.05311332e-14+2.68673972e-14j, -4.82947016e-15-1.39610545e-14j,\n",
       "       -9.82547377e-15-1.18877130e-13j, -2.37310172e-14-3.56936702e-14j,\n",
       "        1.87350135e-14-1.36834988e-14j, -3.77475828e-14+1.04083409e-14j,\n",
       "        1.68060010e-14-1.46826995e-14j,  4.08562073e-14+4.67681449e-14j,\n",
       "        2.92821323e-15+3.77475828e-15j,  1.88044025e-14-1.27120536e-14j,\n",
       "        4.86694018e-14+2.53685961e-14j, -5.47617507e-14-4.87387908e-14j,\n",
       "        3.69010378e-14+4.96547248e-14j, -5.32490718e-14+1.56819002e-14j,\n",
       "       -1.10716991e-13+7.09987624e-14j,  3.35426131e-14-6.10622664e-16j,\n",
       "        3.54438701e-14-6.17839113e-14j, -5.77315973e-15-5.86475313e-14j,\n",
       "       -2.42861287e-15+2.35922393e-14j,  3.18925442e-13-1.37390099e-14j,\n",
       "       -1.47798440e-14-6.52533583e-14j,  6.63566424e-14+5.90361093e-14j,\n",
       "        3.09544057e-14-2.42861287e-14j,  2.22495633e-14+5.24025268e-14j,\n",
       "       -7.50649543e-14+3.33899575e-13j, -8.11156697e-15+8.52096171e-15j,\n",
       "       -1.26010313e-14-2.24820162e-14j,  7.78674000e-14+1.42663659e-14j,\n",
       "       -5.79525497e-14-6.80011603e-14j, -2.86272742e-14-5.84809978e-14j,\n",
       "       -3.63944985e-15-7.88258347e-15j,  5.85052840e-14+3.12527781e-14j,\n",
       "        4.21190860e-15-3.91076060e-14j,  2.12743018e-13+2.33368880e-13j,\n",
       "        6.80219769e-14-4.59077221e-14j,  2.80539481e-14+3.02535774e-15j,\n",
       "        5.31588662e-14+3.27515792e-15j, -3.65471542e-14+3.94129174e-15j,\n",
       "        6.46219189e-14+4.13835632e-14j,  6.63774591e-14+8.68471961e-14j,\n",
       "       -5.74540415e-15+7.63000774e-14j,  1.96093142e-14+5.12923037e-14j,\n",
       "       -2.90600877e-14+1.40498724e-13j, -1.70141679e-14-8.26838598e-14j,\n",
       "       -5.39429612e-14-4.42423875e-14j, -3.44169138e-14-7.42184092e-14j,\n",
       "        1.26704203e-14+1.13825616e-13j,  1.07830411e-13-6.79178935e-14j,\n",
       "        6.40737463e-14-5.24857935e-14j, -8.12128143e-14+6.21724894e-15j,\n",
       "        9.31199562e-14-3.67816888e-13j,  4.05786516e-13+1.40998324e-13j,\n",
       "        3.77475828e-15+8.85402862e-15j,  2.01227923e-14-7.49400542e-14j,\n",
       "       -2.18491891e-13+1.39666056e-13j,  4.88220575e-14-7.66053887e-15j,\n",
       "        4.58244553e-14+1.12743148e-13j,  4.52415883e-15-2.66175970e-14j,\n",
       "       -2.19546603e-14-1.07580611e-13j, -1.28508315e-14+2.22794005e-13j,\n",
       "        4.25770530e-14+7.37743200e-14j, -7.86870569e-14+2.97400993e-13j,\n",
       "       -1.66089364e-13-5.60385072e-14j, -4.53526106e-14+3.44169138e-15j,\n",
       "       -2.83661983e-14+2.56183963e-14j,  3.49720253e-14+6.80566714e-14j,\n",
       "       -3.81084053e-14+1.79023463e-14j, -1.74804615e-13-7.55506768e-14j,\n",
       "       -3.01647596e-13+3.48304718e-13j,  7.49400542e-15+4.06619183e-14j,\n",
       "        2.29538610e-14+1.91069383e-13j,  8.82072193e-14-1.07094889e-13j,\n",
       "       -1.30950806e-13+5.47062395e-14j, -1.52905466e-13+1.99493200e-13j,\n",
       "        5.96744876e-15-7.50788320e-15j,  3.02258218e-14-1.75096049e-13j,\n",
       "       -1.46410661e-13+5.86475313e-14j,  1.07497344e-13-3.01147995e-15j,\n",
       "       -1.62481140e-13+1.27287070e-13j,  4.58938443e-13-3.07365244e-13j,\n",
       "        3.15858451e-14+1.09939835e-13j,  1.08607567e-13-8.58202398e-14j,\n",
       "        3.84831056e-13-1.33351663e-13j, -3.74422715e-14-4.48321935e-14j,\n",
       "       -2.48134846e-14-7.06726344e-14j, -2.78554957e-13+4.14945855e-15j,\n",
       "       -1.64035452e-14-3.42989526e-14j,  7.93809463e-15+1.69517178e-14j,\n",
       "       -6.07847106e-15+7.04297731e-16j, -5.10980147e-14+8.82696694e-14j,\n",
       "        5.88140647e-14+8.74057771e-14j, -2.92266211e-14+1.00774424e-13j,\n",
       "       -1.49602553e-14-5.04795117e-14j,  1.78967952e-13+2.79810897e-14j,\n",
       "       -1.57096558e-14+5.41060252e-14j,  6.33659791e-14+3.15719673e-14j,\n",
       "       -5.58442181e-14+1.58220659e-13j,  1.66477943e-13-1.56073071e-13j,\n",
       "       -2.74780199e-14+1.20542465e-13j, -1.48631107e-13-2.57655008e-13j,\n",
       "       -4.86277685e-14+1.67740821e-13j,  6.18949336e-14-5.85503868e-14j,\n",
       "       -3.61655150e-14-5.01682029e-15j,  5.47895063e-14-6.01046990e-14j,\n",
       "        2.43971510e-14+6.06598105e-14j, -2.53963517e-14+3.41116024e-14j,\n",
       "        3.63598041e-15+5.11674036e-14j, -1.83020266e-13-3.59434704e-15j,\n",
       "        8.35442826e-15+1.84852134e-14j,  4.91273688e-15-1.31561428e-13j,\n",
       "       -7.89646126e-14-1.83117410e-13j,  6.74182932e-14+8.88178420e-16j,\n",
       "        1.26954003e-13-8.75827189e-14j, -4.47974990e-14+4.14113188e-14j,\n",
       "        2.12607709e-14+2.22682983e-13j, -1.50185420e-13+7.31359417e-14j,\n",
       "        1.12687637e-14-1.04249942e-13j,  1.90875094e-13-1.34586786e-13j,\n",
       "        1.27675648e-14-4.36872760e-14j, -8.57647287e-15-1.43357548e-13j,\n",
       "       -3.84137167e-14+9.12048215e-14j,  1.07497344e-13+2.98372438e-14j,\n",
       "       -1.38777878e-14-3.98819866e-13j,  3.37230244e-14+2.21211938e-14j,\n",
       "        5.05151476e-15-4.32154312e-14j,  5.87307980e-14+6.51700915e-14j,\n",
       "       -3.72202269e-14-7.03048730e-14j, -4.78228568e-14-1.15185639e-13j,\n",
       "        7.46624984e-15-4.10227408e-13j, -1.73916437e-13+6.16728890e-14j,\n",
       "       -5.12645482e-14-5.46784840e-15j,  5.40956169e-14+5.19861931e-14j,\n",
       "        2.26207941e-14-2.29899433e-13j,  1.62814207e-13-1.09745546e-13j,\n",
       "        2.17742491e-14-1.00031095e-13j, -3.98153732e-14-6.73350264e-14j,\n",
       "        1.84421922e-13-4.00207645e-13j,  1.29340982e-13+4.22439861e-14j,\n",
       "       -2.86493052e-13-1.01835207e-13j, -5.57331958e-13+3.10113046e-13j,\n",
       "        1.68337566e-14+2.54518628e-14j,  2.12260765e-13-1.64535052e-13j,\n",
       "       -4.77118345e-14+5.82922599e-13j,  2.59070543e-13+1.28230759e-14j,\n",
       "       -1.52211577e-13-1.67810210e-13j, -6.88615831e-14-9.10660436e-14j,\n",
       "        9.34530231e-14+5.61217739e-14j, -2.57072141e-13-2.03559392e-13j,\n",
       "       -2.62734279e-13-4.69901895e-14j, -3.44446693e-14+1.43801637e-13j,\n",
       "       -1.53321800e-13+5.23470156e-13j,  5.72469155e-13-1.59872116e-14j,\n",
       "       -2.61079353e-13+3.23630012e-13j,  5.86565518e-13+2.53103094e-13j,\n",
       "        1.09835752e-13-2.64233080e-13j,  6.19493172e-13-9.02555808e-13j,\n",
       "        1.85192377e-13-8.46822612e-14j, -5.20312959e-14-6.32827124e-15j,\n",
       "        7.68066166e-14-2.49439358e-13j, -1.54251611e-13+1.09245946e-13j,\n",
       "        1.71425374e-13+1.63535852e-13j,  3.54122981e-13+3.69204667e-13j,\n",
       "        1.24157629e-13+1.70974346e-14j, -7.90478794e-14+6.52811138e-14j,\n",
       "        2.74794076e-13+5.83144644e-14j,  3.30957484e-13+1.78718151e-13j,\n",
       "        8.41209047e-13-2.41112685e-13j, -6.42846887e-13-7.39269757e-13j,\n",
       "       -1.88668525e-13-1.35724765e-14j, -2.63178368e-13-1.09107168e-13j,\n",
       "        1.44537160e-13-1.33754119e-13j,  6.92154667e-13+5.01099162e-13j,\n",
       "        2.23113195e-13+7.40796313e-14j, -1.24927846e-13-1.62536651e-13j,\n",
       "       -6.12287998e-14-3.99125177e-14j,  3.31956684e-14+5.15143483e-14j,\n",
       "       -1.16295862e-14+7.49122986e-14j,  6.68909372e-15-5.25690602e-14j,\n",
       "       -3.69801412e-13+2.36810571e-13j, -9.18931597e-13-9.65894031e-14j,\n",
       "        2.45137244e-13-2.77777801e-13j, -4.48530102e-13-7.27196081e-15j,\n",
       "        1.28952404e-13-3.66956465e-13j, -2.87436741e-13+1.62897473e-13j,\n",
       "        7.83817455e-14-8.31557045e-14j,  1.65450986e-13-2.19047003e-13j,\n",
       "        3.70925513e-13+3.37646577e-13j, -1.26371136e-13-1.27786670e-13j,\n",
       "       -1.22041266e-13+5.65797409e-13j, -1.46549439e-13+7.81319454e-14j,\n",
       "        1.38750123e-13-2.29816166e-14j, -3.65263375e-14+4.52193838e-13j,\n",
       "       -4.43534098e-14-1.07192033e-13j,  3.21132010e-14-9.81992265e-14j,\n",
       "        1.84297022e-13+5.04513098e-13j,  6.13120665e-14+5.33184608e-14j,\n",
       "        2.10220730e-13-1.41256451e-12j, -7.67219621e-13+5.37264677e-13j,\n",
       "        5.80369086e-14+4.72330508e-13j, -4.76008122e-14+1.48867030e-13j,\n",
       "        9.82547377e-14+2.23390750e-13j, -1.00308650e-13+2.76514922e-13j,\n",
       "       -4.54830618e-13+3.26308425e-13j,  6.72906175e-13-2.06445971e-13j,\n",
       "       -7.02216063e-15+1.16323617e-13j,  5.90111293e-13+1.12188037e-12j,\n",
       "       -5.24857935e-14-9.55763246e-14j,  2.21211938e-14+1.01557651e-13j,\n",
       "       -1.38999923e-13+5.94982397e-13j,  1.35058631e-13+1.05397635e-12j,\n",
       "       -5.56835134e-12+1.28000000e+02j, -1.74082970e-13-2.61408950e-12j,\n",
       "        4.00790512e-14-1.45668200e-12j,  2.33674191e-13-1.00623676e-12j,\n",
       "        7.00661751e-13-4.89053242e-13j, -3.14748227e-14+1.97921540e-13j,\n",
       "       -1.04305453e-13+6.80948353e-14j, -1.05443432e-13+7.59704799e-14j,\n",
       "       -1.97619698e-14+4.30745717e-13j,  1.36390899e-13-1.63597434e-13j])"
      ]
     },
     "execution_count": 86,
     "metadata": {},
     "output_type": "execute_result"
    }
   ],
   "source": [
    "%%time\n",
    "# x = np.array([0, 1, 2, 3])\n",
    "dft(x)"
   ]
  },
  {
   "cell_type": "code",
   "execution_count": 87,
   "metadata": {},
   "outputs": [
    {
     "name": "stdout",
     "output_type": "stream",
     "text": [
      "CPU times: user 6.89 ms, sys: 19.1 ms, total: 25.9 ms\n",
      "Wall time: 25.8 ms\n"
     ]
    },
    {
     "data": {
      "text/plain": [
       "[np.complex128(5.443494292722948e-15+0j),\n",
       " np.complex128(7.935581282989063e-15+5.2989642142553205e-15j),\n",
       " np.complex128(-1.9253591957763886e-16+4.383195324699642e-15j),\n",
       " np.complex128(1.0283038701545142e-14+9.16342430141753e-16j),\n",
       " np.complex128(9.328619004730948e-15+8.803762887753347e-15j),\n",
       " np.complex128(4.988034856843803e-15+6.297554697755513e-15j),\n",
       " np.complex128(3.175034980105726e-15+1.834975077702326e-14j),\n",
       " np.complex128(7.2149394254251e-16+9.090651004910145e-15j),\n",
       " np.complex128(6.6607146323330475e-15+1.9740036145995093e-14j),\n",
       " np.complex128(-2.6793973146561937e-15+4.637278684785484e-14j),\n",
       " np.complex128(-1.4467226452483694e-13-128.00000000000006j),\n",
       " np.complex128(3.9159735243114126e-15-5.418455910245378e-14j),\n",
       " np.complex128(6.078368511501247e-15-2.5894144794032263e-14j),\n",
       " np.complex128(8.934381294333394e-15-1.508710129672178e-14j),\n",
       " np.complex128(-1.44027322959133e-15-3.156529661070202e-15j),\n",
       " np.complex128(2.1919279354778782e-14-1.724363317304468e-14j),\n",
       " np.complex128(6.053778247215032e-15+9.135807600400655e-15j),\n",
       " np.complex128(-8.759759759184841e-15-7.347577753213298e-15j),\n",
       " np.complex128(-2.03577231855113e-15-1.1407182275018099e-14j),\n",
       " np.complex128(2.8478707327920187e-15-1.0996638130586761e-14j),\n",
       " np.complex128(7.561993383712064e-15+1.7544596825406115e-15j),\n",
       " np.complex128(-5.498286844841349e-15-4.053591809032001e-15j),\n",
       " np.complex128(-3.9350569224743085e-14-1.5336083126102734e-14j),\n",
       " np.complex128(-4.1660277014114063e-16-8.907763620665709e-15j),\n",
       " np.complex128(1.1045659917992235e-14-6.42200363721643e-15j),\n",
       " np.complex128(-7.716600897167043e-15-8.631672699064893e-15j),\n",
       " np.complex128(-1.6775487583212494e-14+1.0702537469481602e-14j),\n",
       " np.complex128(-1.1918975503307725e-16-1.2615366551255351e-14j),\n",
       " np.complex128(3.543158543819225e-15-6.944880976442726e-15j),\n",
       " np.complex128(-5.965710173927507e-15-2.3408059590299514e-15j),\n",
       " np.complex128(-3.5820768666771275e-15+1.847914585573518e-16j),\n",
       " np.complex128(-4.199894906258785e-15-7.179227400552604e-15j),\n",
       " np.complex128(5.297164734845474e-15-1.9991542071408786e-14j),\n",
       " np.complex128(1.6299110676485454e-14+2.422984887823892e-15j),\n",
       " np.complex128(4.935944393935064e-15-1.879776911408608e-15j),\n",
       " np.complex128(2.3023819842697254e-14-5.996074971528726e-15j),\n",
       " np.complex128(9.997377742061622e-15+2.2743575779462722e-14j),\n",
       " np.complex128(-1.5712067013796253e-14-1.1082380364928205e-15j),\n",
       " np.complex128(1.6875808384818892e-15+8.214717123853174e-15j),\n",
       " np.complex128(-4.423638194895794e-15-6.019961772212837e-15j),\n",
       " np.complex128(1.1012902764751115e-14-4.628603362939797e-15j),\n",
       " np.complex128(-1.740323679409907e-14-4.494312299753754e-15j),\n",
       " np.complex128(2.0133474399352655e-14+1.1328768925052039e-14j),\n",
       " np.complex128(7.772140252649177e-15-9.43272692822923e-15j),\n",
       " np.complex128(3.1633362074302554e-15-4.325323055750793e-15j),\n",
       " np.complex128(-3.2358558329698693e-15+3.546024331269412e-15j),\n",
       " np.complex128(-2.027456511207288e-15-4.7752275530004795e-15j),\n",
       " np.complex128(5.738578977150591e-15-8.609636952286846e-15j),\n",
       " np.complex128(1.6569004835478046e-15-1.214145729068408e-14j),\n",
       " np.complex128(5.297918314069619e-15+5.316552346342473e-15j),\n",
       " np.complex128(-4.901894096543518e-16-4.598324265095506e-15j),\n",
       " np.complex128(3.128429863886762e-15-6.432371246154279e-15j),\n",
       " np.complex128(3.4623920664174303e-16-1.5690423082356498e-14j),\n",
       " np.complex128(1.3941437711467215e-14+6.461482060922123e-15j),\n",
       " np.complex128(-4.144784107888052e-14-4.9548545315949904e-14j),\n",
       " np.complex128(1.9364117018985685e-14-6.212636934084191e-15j),\n",
       " np.complex128(-3.041033221053357e-15-1.9540063458319365e-15j),\n",
       " np.complex128(3.318556352173868e-14+1.5092006780567908e-14j),\n",
       " np.complex128(-2.2294836493856006e-15+1.905179545291097e-14j),\n",
       " np.complex128(-3.4325072635336476e-14+8.227412322351918e-15j),\n",
       " np.complex128(1.9559466033107068e-14-6.5197824747507365e-15j),\n",
       " np.complex128(-2.204993419105457e-14-6.326883995770904e-16j),\n",
       " np.complex128(9.50162860668179e-16-1.2891733973903597e-14j),\n",
       " np.complex128(9.093759472279602e-15-5.124450375942232e-15j),\n",
       " np.complex128(5.165938536566661e-15-1.1046719095020317e-14j),\n",
       " np.complex128(4.650363070203757e-15+8.077322434504821e-15j),\n",
       " np.complex128(4.7955285805668544e-15-7.714041179556707e-15j),\n",
       " np.complex128(1.2162554738613635e-14-2.336656780305406e-15j),\n",
       " np.complex128(5.2225626863366164e-15-6.553496635227757e-15j),\n",
       " np.complex128(5.030211253243212e-15+7.615223053265783e-15j),\n",
       " np.complex128(1.6588624582494814e-15-6.134613415792428e-16j),\n",
       " np.complex128(1.4525081604645316e-14-3.02583542543388e-15j),\n",
       " np.complex128(9.253483360773026e-16-2.9075619068354946e-15j),\n",
       " np.complex128(1.1376993515288225e-14+1.1421109025405637e-14j),\n",
       " np.complex128(5.839437496794131e-15+1.851530247621698e-14j),\n",
       " np.complex128(8.786714135267524e-15-2.4889261020433232e-15j),\n",
       " np.complex128(-5.7280509025667186e-15-6.174677250859924e-15j),\n",
       " np.complex128(3.478464854809419e-14+2.156736157066136e-14j),\n",
       " np.complex128(-2.0200324071273695e-15+9.269641866388886e-15j),\n",
       " np.complex128(-2.5029142752184046e-14+1.239238819702946e-14j),\n",
       " np.complex128(1.641633104276431e-14-1.0543865571242607e-14j),\n",
       " np.complex128(2.4468392627049416e-15+5.71802305965301e-15j),\n",
       " np.complex128(-3.0724768941000868e-15-1.0249917575376317e-14j),\n",
       " np.complex128(4.3847589594404486e-14+3.654671476306252e-15j),\n",
       " np.complex128(7.205875861819583e-15+5.866675269539916e-14j),\n",
       " np.complex128(-4.66301458655286e-14+7.802226329931977e-15j),\n",
       " np.complex128(-8.554591717537636e-15-2.3169954822541627e-14j),\n",
       " np.complex128(-6.926502573135408e-15+1.5776877637090424e-15j),\n",
       " np.complex128(4.09900120202374e-15+2.6886451054162796e-15j),\n",
       " np.complex128(-1.162763922327308e-14+1.0039553127628164e-14j),\n",
       " np.complex128(-5.289005764387081e-15-4.45563056782698e-15j),\n",
       " np.complex128(-8.254621489986681e-15-4.65957088490585e-16j),\n",
       " np.complex128(-2.425711289660196e-16-6.657136720947496e-15j),\n",
       " np.complex128(-5.042170435778228e-15+1.3362983835968214e-14j),\n",
       " np.complex128(-6.705349804244414e-15-9.145175926415037e-15j),\n",
       " np.complex128(-7.396119628757839e-15+4.119956168519797e-15j),\n",
       " np.complex128(4.590623128437789e-15-1.1331802479332568e-14j),\n",
       " np.complex128(-6.5987121117176925e-15+8.963547586000547e-15j),\n",
       " np.complex128(-2.7677170189720173e-15-7.828420293516299e-15j),\n",
       " np.complex128(2.227304463717741e-15+3.530571086796021e-15j),\n",
       " np.complex128(4.177056160801286e-15-1.8479184894389948e-14j),\n",
       " np.complex128(2.0092888403457164e-14+8.34768854074322e-15j),\n",
       " np.complex128(-4.271168469135893e-15-4.550553721098197e-15j),\n",
       " np.complex128(5.097144184769816e-14+2.1836895778813798e-16j),\n",
       " np.complex128(-1.3911672010520452e-15+6.968523213993057e-14j),\n",
       " np.complex128(-4.513488153296521e-14+9.753590034583683e-15j),\n",
       " np.complex128(-2.8801811519824437e-15+1.1323007954085607e-14j),\n",
       " np.complex128(-1.6183360324529514e-14-2.801003225458816e-15j),\n",
       " np.complex128(-7.627954746612602e-15-4.0477215520451416e-15j),\n",
       " np.complex128(-1.7326950468685697e-14+1.6642504557610035e-14j),\n",
       " np.complex128(-6.950235899399469e-15-2.4109859384815192e-14j),\n",
       " np.complex128(-8.987002972710684e-16+6.7364668531572156e-15j),\n",
       " np.complex128(9.193286853466294e-15-1.0360838148035874e-14j),\n",
       " np.complex128(-1.0697163996304892e-14+1.687106812111628e-15j),\n",
       " np.complex128(-8.572286808162546e-15-1.3234543157060698e-14j),\n",
       " np.complex128(-2.061063798913108e-15+5.2198606401865264e-15j),\n",
       " np.complex128(5.865818863557873e-15-8.32132004468324e-15j),\n",
       " np.complex128(1.549322680007241e-15+2.707748665063692e-15j),\n",
       " np.complex128(9.88996305983603e-16-2.4158453015843406e-13j),\n",
       " np.complex128(1.90702454480346e-15+1.198530611210676e-16j),\n",
       " np.complex128(3.578386874310006e-15-1.0123158273231366e-14j),\n",
       " np.complex128(6.255638417507e-15+8.64560103974891e-16j),\n",
       " np.complex128(-1.0494214992783547e-14-1.8335346620862417e-15j),\n",
       " np.complex128(2.9901705500034814e-15+3.1441805545261155e-15j),\n",
       " np.complex128(7.986472219791449e-15+7.564523885714109e-15j),\n",
       " np.complex128(1.1286595255761222e-14-1.3100784642041922e-15j),\n",
       " np.complex128(-3.684554279009885e-15+2.2766885446634017e-14j),\n",
       " np.complex128(-1.2592094499143551e-14-1.4253217137668213e-14j),\n",
       " np.complex128(-1.509563166284245e-14+0j),\n",
       " np.complex128(-1.2592094499143485e-14+1.4253217137668172e-14j),\n",
       " np.complex128(-3.7469532533308414e-15-2.2873512925261563e-14j),\n",
       " np.complex128(1.1286595255761204e-14+1.3100784642041692e-15j),\n",
       " np.complex128(7.986472219791446e-15-7.564523885714058e-15j),\n",
       " np.complex128(2.9901705500034806e-15-3.144180554526119e-15j),\n",
       " np.complex128(-1.137861230217497e-14+6.469241160202605e-16j),\n",
       " np.complex128(6.255638417506997e-15-8.645601039749013e-16j),\n",
       " np.complex128(3.578386874310029e-15+1.0123158273231376e-14j),\n",
       " np.complex128(1.907024544803471e-15-1.1985306112097924e-16j),\n",
       " np.complex128(-2.563717372816898e-15+1.4210854715202004e-14j),\n",
       " np.complex128(1.5493226800072418e-15-2.707748665063777e-15j),\n",
       " np.complex128(5.865818863557866e-15+8.321320044683169e-15j),\n",
       " np.complex128(-2.0610637989130583e-15-5.219860640186534e-15j),\n",
       " np.complex128(-1.033817453953295e-14+1.0150575154784355e-14j),\n",
       " np.complex128(-1.0697163996304826e-14-1.6871068121116518e-15j),\n",
       " np.complex128(9.193286853466278e-15+1.0360838148035869e-14j),\n",
       " np.complex128(-8.987002972710841e-16-6.736466853157213e-15j),\n",
       " np.complex128(-2.431788014621239e-15+2.2916597337362512e-14j),\n",
       " np.complex128(-1.7326950468685665e-14-1.6642504557610054e-14j),\n",
       " np.complex128(-7.627954746612562e-15+4.047721552045149e-15j),\n",
       " np.complex128(-1.61833603245295e-14+2.801003225458816e-15j),\n",
       " np.complex128(4.755950006113145e-15-1.2492196322496883e-14j),\n",
       " np.complex128(-4.513488153296515e-14-9.753590034583697e-15j),\n",
       " np.complex128(-1.3911672010520073e-15-6.96852321399305e-14j),\n",
       " np.complex128(5.0971441847698104e-14-2.1836895778811984e-16j),\n",
       " np.complex128(-3.7978756301213395e-15+6.037692419539675e-16j),\n",
       " np.complex128(2.0092888403457145e-14-8.347688540743222e-15j),\n",
       " np.complex128(4.177056160801278e-15+1.8479184894389923e-14j),\n",
       " np.complex128(2.2273044637177458e-15-3.5305710867960145e-15j),\n",
       " np.complex128(-4.3301517735190865e-15+6.86027889198266e-15j),\n",
       " np.complex128(-6.598712111717699e-15-8.963547586000558e-15j),\n",
       " np.complex128(4.590623128437782e-15+1.1331802479332559e-14j),\n",
       " np.complex128(-7.396119628757804e-15-4.119956168519779e-15j),\n",
       " np.complex128(-4.956550707294708e-15+8.982457043339494e-15j),\n",
       " np.complex128(-5.042170435778203e-15-1.3362983835968231e-14j),\n",
       " np.complex128(-2.425711289660117e-16+6.657136720947512e-15j),\n",
       " np.complex128(-8.254621489986694e-15+4.659570884905708e-16j),\n",
       " np.complex128(-1.6893680078386008e-15+2.4296646118777292e-15j),\n",
       " np.complex128(-1.162763922327307e-14-1.0039553127628166e-14j),\n",
       " np.complex128(4.0990012020237386e-15-2.6886451054162978e-15j),\n",
       " np.complex128(-6.926502573135395e-15-1.5776877637090392e-15j),\n",
       " np.complex128(-9.581817325630643e-15+1.5821417565398143e-14j),\n",
       " np.complex128(-4.6630145865528566e-14-7.802226329931999e-15j),\n",
       " np.complex128(7.205875861819603e-15-5.866675269539915e-14j),\n",
       " np.complex128(4.384758959440448e-14-3.654671476306229e-15j),\n",
       " np.complex128(-2.8158930506142686e-15+6.522175979649893e-15j),\n",
       " np.complex128(2.4468392627049522e-15-5.718023059653017e-15j),\n",
       " np.complex128(1.64163310427643e-14+1.0543865571242617e-14j),\n",
       " np.complex128(-2.502914275218406e-14-1.2392388197029494e-14j),\n",
       " np.complex128(1.115918291258623e-15-7.45754076138844e-15j),\n",
       " np.complex128(3.4784648548094234e-14-2.1567361570661362e-14j),\n",
       " np.complex128(-5.728050902566717e-15+6.1746772508599066e-15j),\n",
       " np.complex128(8.786714135267558e-15+2.4889261020433106e-15j),\n",
       " np.complex128(5.763668840604972e-14-3.571658297526212e-14j),\n",
       " np.complex128(1.137699351528824e-14-1.1421109025405634e-14j),\n",
       " np.complex128(9.253483360773097e-16+2.9075619068355148e-15j),\n",
       " np.complex128(1.4525081604645316e-14+3.02583542543391e-15j),\n",
       " np.complex128(8.97704973555073e-16+8.618405467311345e-16j),\n",
       " np.complex128(5.030211253243228e-15-7.61522305326577e-15j),\n",
       " np.complex128(5.2225626863365786e-15+6.553496635227754e-15j),\n",
       " np.complex128(1.2162554738613652e-14+2.3366567803054085e-15j),\n",
       " np.complex128(1.6714615828529185e-15+2.506581831270744e-15j),\n",
       " np.complex128(4.650363070203774e-15-8.077322434504836e-15j),\n",
       " np.complex128(5.1659385365666564e-15+1.1046719095020317e-14j),\n",
       " np.complex128(9.093759472279586e-15+5.1244503759422516e-15j),\n",
       " np.complex128(3.0184799811628962e-15+1.3534470483766046e-14j),\n",
       " np.complex128(-2.2049934191054536e-14+6.326883995770754e-16j),\n",
       " np.complex128(1.9559466033107043e-14+6.51978247475074e-15j),\n",
       " np.complex128(-3.4325072635336426e-14-8.227412322351918e-15j),\n",
       " np.complex128(-7.561811623136458e-16-2.0356995517847406e-14j),\n",
       " np.complex128(3.318556352173864e-14-1.5092006780567876e-14j),\n",
       " np.complex128(-3.041033221053347e-15+1.954006345831948e-15j),\n",
       " np.complex128(1.936411701898565e-14+6.21263693408421e-15j),\n",
       " np.complex128(-1.096687224242794e-14+9.906406954187028e-15j),\n",
       " np.complex128(1.3941437711467209e-14-6.461482060922117e-15j),\n",
       " np.complex128(3.4623920664174066e-16+1.569042308235648e-14j),\n",
       " np.complex128(3.12842986388674e-15+6.432371246154249e-15j),\n",
       " np.complex128(-1.2482250374283658e-15+1.0107838714830304e-15j),\n",
       " np.complex128(5.297918314069635e-15-5.316552346342465e-15j),\n",
       " np.complex128(1.6569004835477935e-15+1.2141457290684077e-14j),\n",
       " np.complex128(5.7385789771505915e-15+8.609636952286843e-15j),\n",
       " np.complex128(1.6867825594261257e-15+7.747975053069884e-15j),\n",
       " np.complex128(-3.235855832969882e-15-3.546024331269423e-15j),\n",
       " np.complex128(3.1633362074302664e-15+4.3253230557507835e-15j),\n",
       " np.complex128(7.772140252649196e-15+9.432726928229246e-15j),\n",
       " np.complex128(4.710519616010196e-14-5.8451845896667686e-15j),\n",
       " np.complex128(-1.7403236794099095e-14+4.49431229975376e-15j),\n",
       " np.complex128(1.1012902764751094e-14+4.628603362939803e-15j),\n",
       " np.complex128(-4.4236381948958e-15+6.019961772212825e-15j),\n",
       " np.complex128(4.758398155786594e-15-7.666705285856396e-15j),\n",
       " np.complex128(-1.571206701379626e-14+1.1082380364928094e-15j),\n",
       " np.complex128(9.997377742061627e-15-2.2743575779462744e-14j),\n",
       " np.complex128(2.302381984269727e-14+5.996074971528739e-15j),\n",
       " np.complex128(1.424767325025336e-15-3.6759679440201204e-15j),\n",
       " np.complex128(1.629911067648548e-14-2.422984887823882e-15j),\n",
       " np.complex128(5.297164734845465e-15+1.9991542071408795e-14j),\n",
       " np.complex128(-4.19989490625878e-15+7.1792274005526e-15j),\n",
       " np.complex128(4.2241103710648414e-16+4.393515284421665e-15j),\n",
       " np.complex128(-5.965710173927504e-15+2.340805959029956e-15j),\n",
       " np.complex128(3.543158543819233e-15+6.944880976442744e-15j),\n",
       " np.complex128(-1.191897550331088e-16+1.2615366551255372e-14j),\n",
       " np.complex128(-8.935887317909208e-15-4.120046048249584e-15j),\n",
       " np.complex128(-7.716600897167125e-15+8.631672699064882e-15j),\n",
       " np.complex128(1.1045659917992241e-14+6.422003637216354e-15j),\n",
       " np.complex128(-4.166027701410933e-16+8.907763620665714e-15j),\n",
       " np.complex128(-2.503177277060819e-14+4.1593697010702204e-15j),\n",
       " np.complex128(-5.498286844841325e-15+4.053591809031996e-15j),\n",
       " np.complex128(7.561993383712091e-15-1.7544596825405993e-15j),\n",
       " np.complex128(2.8478707327920424e-15+1.0996638130586751e-14j),\n",
       " np.complex128(-5.029653347363988e-15-3.913673446936622e-15j),\n",
       " np.complex128(-8.759759759184857e-15+7.347577753213301e-15j),\n",
       " np.complex128(6.053778247215026e-15-9.135807600400656e-15j),\n",
       " np.complex128(2.1919279354778858e-14+1.7243633173044724e-14j),\n",
       " np.complex128(-3.065630338579229e-16+2.5285048817022994e-14j),\n",
       " np.complex128(8.934381294333397e-15+1.508710129672182e-14j),\n",
       " np.complex128(6.0783685115012525e-15+2.5894144794032358e-14j),\n",
       " np.complex128(3.915973524311396e-15+5.418455910245391e-14j),\n",
       " np.complex128(-2.1217382442204645e-13+128.0000000000004j),\n",
       " np.complex128(-2.6793973146561827e-15-4.637278684785498e-14j),\n",
       " np.complex128(6.660714632333061e-15-1.974003614599512e-14j),\n",
       " np.complex128(7.214939425424903e-16-9.090651004910184e-15j),\n",
       " np.complex128(1.2420225508013176e-14-3.858035426811106e-14j),\n",
       " np.complex128(4.988034856843832e-15-6.297554697755516e-15j),\n",
       " np.complex128(9.328619004730948e-15-8.80376288775339e-15j),\n",
       " np.complex128(1.0283038701545145e-14-9.163424301417188e-16j),\n",
       " np.complex128(-1.9992203455023345e-15+2.396453389410316e-15j),\n",
       " np.complex128(7.935581282989104e-15-5.298964214255297e-15j)]"
      ]
     },
     "execution_count": 87,
     "metadata": {},
     "output_type": "execute_result"
    }
   ],
   "source": [
    "%%time\n",
    "# x = np.array([0, 1, 2, 3])\n",
    "fft(x)"
   ]
  },
  {
   "cell_type": "code",
   "execution_count": null,
   "metadata": {},
   "outputs": [],
   "source": []
  },
  {
   "cell_type": "code",
   "execution_count": null,
   "metadata": {},
   "outputs": [],
   "source": []
  },
  {
   "cell_type": "markdown",
   "metadata": {},
   "source": [
    "## PART 2"
   ]
  },
  {
   "cell_type": "markdown",
   "metadata": {},
   "source": [
    "| Концепція            | Жадібні алгоритми     | Динамічне програмування |\n",
    "| -------------------- | --------------------- | ----------------------- |\n",
    "| **Штучний інтелект** | A* Search             | Reinforcement Learning  |\n",
    "| **Графи**            | MST (Prim, Kruskal)   | Floyd-Warshall          |\n",
    "| **Мережі**           | Load Balancing        | Flow Algorithms         |\n",
    "| **Криптографія**     | RSA, Huffman Coding   | Exponentiation          |\n",
    "| **Фінанси**          | Алгоритмічна торгівля | Оптимізація ризиків     |"
   ]
  },
  {
   "cell_type": "code",
   "execution_count": null,
   "metadata": {},
   "outputs": [],
   "source": []
  },
  {
   "cell_type": "markdown",
   "metadata": {},
   "source": [
    "## COMPEX INSTANCES"
   ]
  },
  {
   "cell_type": "code",
   "execution_count": null,
   "metadata": {},
   "outputs": [],
   "source": []
  },
  {
   "cell_type": "code",
   "execution_count": null,
   "metadata": {},
   "outputs": [],
   "source": []
  },
  {
   "cell_type": "markdown",
   "metadata": {},
   "source": [
    "## LEGACY"
   ]
  },
  {
   "cell_type": "code",
   "execution_count": 91,
   "metadata": {},
   "outputs": [
    {
     "data": {
      "image/png": "[encoded data removed]",
      "text/plain": [
       "<Figure size 800x600 with 1 Axes>"
      ]
     },
     "metadata": {},
     "output_type": "display_data"
    }
   ],
   "source": [
    "\n",
    "\n",
    "import numpy as np\n",
    "import matplotlib.pyplot as plt\n",
    "from sklearn.datasets import make_blobs\n",
    "from scipy.spatial.distance import cdist\n",
    "\n",
    "# Step 1: Generate synthetic data\n",
    "def generate_data(n_samples=300, n_features=2, n_clusters=4, cluster_std=1.0, random_state=42):\n",
    "    data, labels = make_blobs(n_samples=n_samples, centers=n_clusters, cluster_std=cluster_std, n_features=n_features, random_state=random_state)\n",
    "    return data\n",
    "\n",
    "# Step 2: Implement k-means++ initialization\n",
    "def kmeans_plus_plus(data, k, random_state=42):\n",
    "    np.random.seed(random_state)\n",
    "    n_samples, n_features = data.shape\n",
    "\n",
    "    # Randomly select the first centroid\n",
    "    centroids = [data[np.random.choice(range(n_samples))]]\n",
    "\n",
    "    # Select the remaining k-1 centroids\n",
    "    for _ in range(1, k):\n",
    "        # Compute the distance from each point to the nearest centroid\n",
    "        distances = np.min(cdist(data, np.array(centroids)), axis=1)\n",
    "        probabilities = distances / distances.sum()\n",
    "\n",
    "        # Choose the next centroid probabilistically\n",
    "        next_centroid_idx = np.random.choice(range(n_samples), p=probabilities)\n",
    "        centroids.append(data[next_centroid_idx])\n",
    "\n",
    "    return np.array(centroids)\n",
    "\n",
    "# Step 3: Plot the data and centroids for visualization\n",
    "def plot_clusters(data, centroids, title=\"k-means++ Initialization\"):\n",
    "    plt.figure(figsize=(8, 6))\n",
    "    plt.scatter(data[:, 0], data[:, 1], s=30, alpha=0.6, label=\"Data Points\")\n",
    "    plt.scatter(centroids[:, 0], centroids[:, 1], c='red', s=100, label=\"Centroids\")\n",
    "    plt.title(title)\n",
    "    plt.xlabel(\"Feature 1\")\n",
    "    plt.ylabel(\"Feature 2\")\n",
    "    plt.legend()\n",
    "    plt.grid(True)\n",
    "    plt.show()\n",
    "\n",
    "# Parameters\n",
    "n_samples = 300\n",
    "n_features = 2\n",
    "n_clusters = 4\n",
    "\n",
    "# Generate data\n",
    "data = generate_data(n_samples=n_samples, n_features=n_features, n_clusters=n_clusters)\n",
    "\n",
    "# Perform k-means++ initialization\n",
    "centroids = kmeans_plus_plus(data, n_clusters)\n",
    "\n",
    "# Visualize results\n",
    "plot_clusters(data, centroids, title=\"k-means++ Initialization\")\n",
    "\n"
   ]
  },
  {
   "cell_type": "code",
   "execution_count": 95,
   "metadata": {},
   "outputs": [
    {
     "data": {
      "text/plain": [
       "(np.int64(107327), [np.int64(10), np.int64(8), np.int64(5), np.int64(1)])"
      ]
     },
     "execution_count": 95,
     "metadata": {},
     "output_type": "execute_result"
    }
   ],
   "source": [
    "\n",
    "import numpy as np\n",
    "import pandas as pd\n",
    "\n",
    "# Step 1: Generate synthetic data for movies\n",
    "def generate_movie_data(n_movies=10, max_budget=100, max_popularity=5, max_views=50000, random_state=333):\n",
    "    np.random.seed(random_state)\n",
    "    budgets = np.random.randint(10, max_budget, size=n_movies)\n",
    "    popularity = np.random.uniform(1, max_popularity, size=n_movies)\n",
    "    views = (popularity * max_views / max_popularity).astype(int)\n",
    "    movies = pd.DataFrame({\n",
    "        \"Movie_ID\": range(1, n_movies + 1),\n",
    "        \"Budget\": budgets,\n",
    "        \"Popularity\": popularity,\n",
    "        \"Projected_Views\": views\n",
    "    })\n",
    "    return movies\n",
    "\n",
    "# Step 2: Dynamic programming approach for maximizing views\n",
    "def maximize_views_with_budget(movies, total_budget):\n",
    "    n_movies = len(movies)\n",
    "    dp = np.zeros((n_movies + 1, total_budget + 1), dtype=int)\n",
    "\n",
    "    for i in range(1, n_movies + 1):\n",
    "        for b in range(1, total_budget + 1):\n",
    "            if movies.loc[i - 1, \"Budget\"] > b:\n",
    "                dp[i][b] = dp[i - 1][b]  # Exclude the movie\n",
    "            else:\n",
    "                # Include the movie and check maximum\n",
    "                dp[i][b] = max(dp[i - 1][b],\n",
    "                               dp[i - 1][b - movies.loc[i - 1, \"Budget\"]] + movies.loc[i - 1, \"Projected_Views\"])\n",
    "\n",
    "    # Retrieve selected movies\n",
    "    selected_movies = []\n",
    "    b = total_budget\n",
    "    for i in range(n_movies, 0, -1):\n",
    "        if dp[i][b] != dp[i - 1][b]:  # If the movie is included\n",
    "            selected_movies.append(movies.loc[i - 1, \"Movie_ID\"])\n",
    "            b -= movies.loc[i - 1, \"Budget\"]\n",
    "\n",
    "    return dp[n_movies][total_budget], selected_movies\n",
    "\n",
    "# Step 3: Generate data and solve the problem\n",
    "n_movies = 10\n",
    "total_budget = 150\n",
    "\n",
    "# Generate movie data\n",
    "movies = generate_movie_data(n_movies=n_movies)\n",
    "\n",
    "# Solve the optimization problem\n",
    "max_views, selected_movies = maximize_views_with_budget(movies, total_budget)\n",
    "\n",
    "max_views, selected_movies"
   ]
  },
  {
   "cell_type": "code",
   "execution_count": 94,
   "metadata": {},
   "outputs": [
    {
     "data": {
      "text/html": [
       "<div>\n",
       "<style scoped>\n",
       "    .dataframe tbody tr th:only-of-type {\n",
       "        vertical-align: middle;\n",
       "    }\n",
       "\n",
       "    .dataframe tbody tr th {\n",
       "        vertical-align: top;\n",
       "    }\n",
       "\n",
       "    .dataframe thead th {\n",
       "        text-align: right;\n",
       "    }\n",
       "</style>\n",
       "<table border=\"1\" class=\"dataframe\">\n",
       "  <thead>\n",
       "    <tr style=\"text-align: right;\">\n",
       "      <th></th>\n",
       "      <th>Movie_ID</th>\n",
       "      <th>Budget</th>\n",
       "      <th>Popularity</th>\n",
       "      <th>Projected_Views</th>\n",
       "    </tr>\n",
       "  </thead>\n",
       "  <tbody>\n",
       "    <tr>\n",
       "      <th>8</th>\n",
       "      <td>9</td>\n",
       "      <td>81</td>\n",
       "      <td>1.129436</td>\n",
       "      <td>11294</td>\n",
       "    </tr>\n",
       "    <tr>\n",
       "      <th>7</th>\n",
       "      <td>8</td>\n",
       "      <td>39</td>\n",
       "      <td>1.134617</td>\n",
       "      <td>11346</td>\n",
       "    </tr>\n",
       "    <tr>\n",
       "      <th>2</th>\n",
       "      <td>3</td>\n",
       "      <td>45</td>\n",
       "      <td>2.270715</td>\n",
       "      <td>22707</td>\n",
       "    </tr>\n",
       "    <tr>\n",
       "      <th>9</th>\n",
       "      <td>10</td>\n",
       "      <td>33</td>\n",
       "      <td>2.280310</td>\n",
       "      <td>22803</td>\n",
       "    </tr>\n",
       "    <tr>\n",
       "      <th>0</th>\n",
       "      <td>1</td>\n",
       "      <td>22</td>\n",
       "      <td>2.455686</td>\n",
       "      <td>24556</td>\n",
       "    </tr>\n",
       "    <tr>\n",
       "      <th>5</th>\n",
       "      <td>6</td>\n",
       "      <td>70</td>\n",
       "      <td>2.874055</td>\n",
       "      <td>28740</td>\n",
       "    </tr>\n",
       "    <tr>\n",
       "      <th>3</th>\n",
       "      <td>4</td>\n",
       "      <td>61</td>\n",
       "      <td>3.350593</td>\n",
       "      <td>33505</td>\n",
       "    </tr>\n",
       "    <tr>\n",
       "      <th>6</th>\n",
       "      <td>7</td>\n",
       "      <td>93</td>\n",
       "      <td>3.520203</td>\n",
       "      <td>35202</td>\n",
       "    </tr>\n",
       "    <tr>\n",
       "      <th>4</th>\n",
       "      <td>5</td>\n",
       "      <td>56</td>\n",
       "      <td>4.862282</td>\n",
       "      <td>48622</td>\n",
       "    </tr>\n",
       "    <tr>\n",
       "      <th>1</th>\n",
       "      <td>2</td>\n",
       "      <td>87</td>\n",
       "      <td>4.871972</td>\n",
       "      <td>48719</td>\n",
       "    </tr>\n",
       "  </tbody>\n",
       "</table>\n",
       "</div>"
      ],
      "text/plain": [
       "   Movie_ID  Budget  Popularity  Projected_Views\n",
       "8         9      81    1.129436            11294\n",
       "7         8      39    1.134617            11346\n",
       "2         3      45    2.270715            22707\n",
       "9        10      33    2.280310            22803\n",
       "0         1      22    2.455686            24556\n",
       "5         6      70    2.874055            28740\n",
       "3         4      61    3.350593            33505\n",
       "6         7      93    3.520203            35202\n",
       "4         5      56    4.862282            48622\n",
       "1         2      87    4.871972            48719"
      ]
     },
     "execution_count": 94,
     "metadata": {},
     "output_type": "execute_result"
    }
   ],
   "source": [
    "movies.sort_values(by='Projected_Views')"
   ]
  },
  {
   "cell_type": "code",
   "execution_count": 96,
   "metadata": {},
   "outputs": [],
   "source": [
    "\n",
    "# Step 1: Generate synthetic data for server programs\n",
    "def generate_server_programs(n_programs=15, max_cpu=100, max_ram=200, random_state=333):\n",
    "    np.random.seed(random_state)\n",
    "    programs = pd.DataFrame({\n",
    "        \"Program_ID\": range(1, n_programs + 1),\n",
    "        \"CPU_Usage\": np.random.randint(5, max_cpu // 2, size=n_programs),\n",
    "        \"RAM_Usage\": np.random.randint(10, max_ram // 2, size=n_programs),\n",
    "        \"Priority\": np.random.uniform(1, 10, size=n_programs)  # Weight in the system\n",
    "    })\n",
    "    return programs\n",
    "\n",
    "# Step 2: Greedy approach for resource allocation\n",
    "def greedy_resource_allocation(programs, max_cpu, max_ram):\n",
    "    # Calculate resource efficiency (CPU + RAM per unit of Priority)\n",
    "    programs[\"Efficiency\"] = (programs[\"CPU_Usage\"] + programs[\"RAM_Usage\"]) / programs[\"Priority\"]\n",
    "    programs = programs.sort_values(by=\"Efficiency\")  # Sort by efficiency\n",
    "\n",
    "    selected_programs = []\n",
    "    total_cpu, total_ram = 0, 0\n",
    "\n",
    "    for _, program in programs.iterrows():\n",
    "        if total_cpu + program[\"CPU_Usage\"] <= max_cpu and total_ram + program[\"RAM_Usage\"] <= max_ram:\n",
    "            selected_programs.append(program[\"Program_ID\"])\n",
    "            total_cpu += program[\"CPU_Usage\"]\n",
    "            total_ram += program[\"RAM_Usage\"]\n",
    "\n",
    "    return selected_programs, total_cpu, total_ram\n",
    "\n",
    "# Correcting the data type for indexing in DP array (integer conversion)\n",
    "def dp_resource_allocation(programs, max_cpu, max_ram):\n",
    "    n_programs = len(programs)\n",
    "    dp = np.zeros((n_programs + 1, max_cpu + 1, max_ram + 1), dtype=float)\n",
    "\n",
    "    for i in range(1, n_programs + 1):\n",
    "        program = programs.iloc[i - 1]\n",
    "        cpu, ram, priority = int(program[\"CPU_Usage\"]), int(program[\"RAM_Usage\"]), program[\"Priority\"]\n",
    "\n",
    "        for c in range(max_cpu + 1):\n",
    "            for r in range(max_ram + 1):\n",
    "                if cpu > c or ram > r:\n",
    "                    dp[i][c][r] = dp[i - 1][c][r]  # Exclude program\n",
    "                else:\n",
    "                    # Include program if resources allow\n",
    "                    dp[i][c][r] = max(dp[i - 1][c][r],\n",
    "                                      dp[i - 1][c - cpu][r - ram] + priority)\n",
    "\n",
    "    # Backtrack to find selected programs\n",
    "    selected_programs = []\n",
    "    c, r = max_cpu, max_ram\n",
    "    for i in range(n_programs, 0, -1):\n",
    "        if dp[i][c][r] != dp[i - 1][c][r]:  # If program was included\n",
    "            selected_programs.append(programs.iloc[i - 1][\"Program_ID\"])\n",
    "            c -= int(programs.iloc[i - 1][\"CPU_Usage\"])\n",
    "            r -= int(programs.iloc[i - 1][\"RAM_Usage\"])\n",
    "\n",
    "    return selected_programs, dp[n_programs][max_cpu][max_ram]\n",
    "\n",
    "# Parameters\n",
    "n_programs = 300\n",
    "max_cpu = 150\n",
    "max_ram = 300\n",
    "\n",
    "# Generate program data\n",
    "programs = generate_server_programs(n_programs=n_programs)\n"
   ]
  },
  {
   "cell_type": "code",
   "execution_count": 103,
   "metadata": {},
   "outputs": [
    {
     "name": "stdout",
     "output_type": "stream",
     "text": [
      "CPU times: user 63.7 ms, sys: 0 ns, total: 63.7 ms\n",
      "Wall time: 63.4 ms\n"
     ]
    },
    {
     "data": {
      "text/plain": [
       "{'Selected Programs (Greedy)': [np.float64(46.0),\n",
       "  np.float64(109.0),\n",
       "  np.float64(111.0),\n",
       "  np.float64(82.0),\n",
       "  np.float64(32.0),\n",
       "  np.float64(80.0),\n",
       "  np.float64(209.0),\n",
       "  np.float64(228.0),\n",
       "  np.float64(102.0),\n",
       "  np.float64(60.0),\n",
       "  np.float64(58.0),\n",
       "  np.float64(172.0),\n",
       "  np.float64(81.0),\n",
       "  np.float64(84.0)],\n",
       " 'Total CPU Used': np.float64(149.0),\n",
       " 'Total RAM Used': np.float64(252.0)}"
      ]
     },
     "execution_count": 103,
     "metadata": {},
     "output_type": "execute_result"
    }
   ],
   "source": [
    "%%time\n",
    "# Solve using greedy approach\n",
    "greedy_selected, greedy_cpu, greedy_ram = greedy_resource_allocation(programs, max_cpu, max_ram)\n",
    "\n",
    "\n",
    "\n",
    "# Display results\n",
    "greedy_results = {\n",
    "    \"Selected Programs (Greedy)\": greedy_selected,\n",
    "    \"Total CPU Used\": greedy_cpu,\n",
    "    \"Total RAM Used\": greedy_ram\n",
    "}\n",
    "\n",
    "greedy_results\n"
   ]
  },
  {
   "cell_type": "code",
   "execution_count": 102,
   "metadata": {},
   "outputs": [
    {
     "data": {
      "text/plain": [
       "{'Selected Programs (Greedy)': [np.float64(46.0),\n",
       "  np.float64(109.0),\n",
       "  np.float64(111.0),\n",
       "  np.float64(82.0),\n",
       "  np.float64(32.0),\n",
       "  np.float64(80.0),\n",
       "  np.float64(209.0),\n",
       "  np.float64(228.0),\n",
       "  np.float64(102.0),\n",
       "  np.float64(60.0),\n",
       "  np.float64(58.0),\n",
       "  np.float64(172.0),\n",
       "  np.float64(81.0),\n",
       "  np.float64(84.0)],\n",
       " 'Total CPU Used': np.float64(149.0),\n",
       " 'Total RAM Used': np.float64(252.0)}"
      ]
     },
     "execution_count": 102,
     "metadata": {},
     "output_type": "execute_result"
    }
   ],
   "source": [
    "greedy_results"
   ]
  },
  {
   "cell_type": "code",
   "execution_count": 98,
   "metadata": {},
   "outputs": [
    {
     "name": "stdout",
     "output_type": "stream",
     "text": [
      "CPU times: user 1min 11s, sys: 209 ms, total: 1min 12s\n",
      "Wall time: 1min 12s\n"
     ]
    }
   ],
   "source": [
    "\n",
    "%%time\n",
    "# Solve using dynamic programming (corrected)\n",
    "dp_selected, dp_priority = dp_resource_allocation(programs, max_cpu, max_ram)\n",
    "\n",
    "dp_results = {\n",
    "    \"Selected Programs (DP)\": dp_selected,\n",
    "    \"Total Priority Achieved\": dp_priority\n",
    "}\n",
    "\n"
   ]
  },
  {
   "cell_type": "code",
   "execution_count": 101,
   "metadata": {},
   "outputs": [
    {
     "data": {
      "text/plain": [
       "{'Selected Programs (DP)': [np.float64(266.0),\n",
       "  np.float64(239.0),\n",
       "  np.float64(228.0),\n",
       "  np.float64(209.0),\n",
       "  np.float64(146.0),\n",
       "  np.float64(111.0),\n",
       "  np.float64(109.0),\n",
       "  np.float64(102.0),\n",
       "  np.float64(88.0),\n",
       "  np.float64(82.0),\n",
       "  np.float64(80.0),\n",
       "  np.float64(60.0),\n",
       "  np.float64(58.0),\n",
       "  np.float64(46.0),\n",
       "  np.float64(32.0)],\n",
       " 'Total Priority Achieved': np.float64(124.56718385255489)}"
      ]
     },
     "execution_count": 101,
     "metadata": {},
     "output_type": "execute_result"
    }
   ],
   "source": [
    "dp_results"
   ]
  },
  {
   "cell_type": "code",
   "execution_count": null,
   "metadata": {},
   "outputs": [],
   "source": []
  }
 ],
 "metadata": {
  "kernelspec": {
   "display_name": "venv",
   "language": "python",
   "name": "python3"
  },
  "language_info": {
   "codemirror_mode": {
    "name": "ipython",
    "version": 3
   },
   "file_extension": ".py",
   "mimetype": "text/x-python",
   "name": "python",
   "nbconvert_exporter": "python",
   "pygments_lexer": "ipython3",
   "version": "3.10.12"
  }
 },
 "nbformat": 4,
 "nbformat_minor": 2
}
