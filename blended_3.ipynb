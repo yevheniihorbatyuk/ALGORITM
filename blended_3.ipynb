{
 "cells": [
  {
   "cell_type": "code",
   "execution_count": 4,
   "metadata": {},
   "outputs": [],
   "source": [
    "# Data format\n",
    "import datetime\n",
    "from data_tmp import UsageEvent\n",
    "\n",
    "\n",
    "from base_bloom import BloomFilter\n",
    "from base_hll import HyperLogLog\n",
    "# from base_reservoir import\n",
    "# from base_map_reduce import\n",
    " \n"
   ]
  },
  {
   "cell_type": "code",
   "execution_count": 3,
   "metadata": {},
   "outputs": [
    {
     "data": {
      "text/plain": [
       "data_tmp.UsageEvent"
      ]
     },
     "execution_count": 3,
     "metadata": {},
     "output_type": "execute_result"
    }
   ],
   "source": [
    "UsageEvent"
   ]
  },
  {
   "cell_type": "code",
   "execution_count": null,
   "metadata": {},
   "outputs": [],
   "source": [
    "class StreamingAnalyser:\n",
    "    def __init__(self,\n",
    "                 hll_precision: int = 14,\n",
    "                 bloom_size: int = 100000,\n",
    "                 bloom_hash_count: int = 5,\n",
    "                 time_window: datetime.timedelta = datetime.timedelta(hours=1)):\n",
    "        \n",
    "        # Ініціалізація компонентів\n",
    "        # Унікальні глядачі\n",
    "        self.video_viewers = defaultdict(lambda: HyperLogLog(hll_precision))\n",
    "        # Повторні перегляди\n",
    "        self.repeat_views = BloomFilter(bloom_size, bloom_hash_count)\n",
    "        \n",
    "        # Статистика переглядів\n",
    "        self.view_counts = defaultdict(int)\n",
    "        self.quality_stats = defaultdict(lambda: defaultdict(int))\n",
    "        self.device_stats = defaultdict(lambda: defaultdict(int))\n",
    "        self.completion_stats = defaultdict(lambda: defaultdict(int))\n",
    "        \n",
    "        # Для рекомендацій\n",
    "        self.user_sequences = defaultdict(list)\n",
    "        self.video_correlations = defaultdict(lambda: defaultdict(int))\n",
    "        \n",
    "        # Для аналізу трендів\n",
    "        self.time_window = time_window\n",
    "        self.window_stats = []\n",
    "        \n",
    "        # Додаткова статистика\n",
    "        self.session_durations = defaultdict(list)\n",
    "        self.hourly_stats = defaultdict(lambda: defaultdict(int))"
   ]
  }
 ],
 "metadata": {
  "kernelspec": {
   "display_name": "venv",
   "language": "python",
   "name": "python3"
  },
  "language_info": {
   "codemirror_mode": {
    "name": "ipython",
    "version": 3
   },
   "file_extension": ".py",
   "mimetype": "text/x-python",
   "name": "python",
   "nbconvert_exporter": "python",
   "pygments_lexer": "ipython3",
   "version": "3.10.12"
  }
 },
 "nbformat": 4,
 "nbformat_minor": 2
}
